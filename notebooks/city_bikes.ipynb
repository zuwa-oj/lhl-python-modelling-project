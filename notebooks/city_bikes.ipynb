{
 "cells": [
  {
   "cell_type": "markdown",
   "metadata": {},
   "source": [
    "# CityBikes"
   ]
  },
  {
   "cell_type": "markdown",
   "metadata": {},
   "source": [
    "Send a request to CityBikes for the city of your choice. "
   ]
  },
  {
   "cell_type": "code",
   "execution_count": null,
   "metadata": {},
   "outputs": [],
   "source": [
    "import requests\n",
    "import pandas as pd\n",
    "\n",
    "# URL of the API endpoint\n",
    "url = 'https://api.citybik.es/v2/networks/dublinbikes'\n",
    "\n",
    "# Send a GET request to the API\n",
    "response = requests.get(url)"
   ]
  },
  {
   "cell_type": "code",
   "execution_count": null,
   "metadata": {},
   "outputs": [],
   "source": []
  },
  {
   "cell_type": "markdown",
   "metadata": {},
   "source": [
    "Parse through the response to get the details you want for the bike stations in that city (latitude, longitude, number of bikes). "
   ]
  },
  {
   "cell_type": "code",
   "execution_count": null,
   "metadata": {},
   "outputs": [],
   "source": [
    "# Check if the request was successful (status code 200)\n",
    "if response.status_code != 200:\n",
    "    print(\"Request failed. Status code:\", response.status_code)\n",
    "else:\n",
    "    # Parse the JSON response\n",
    "    data = response.json()\n",
    "    \n",
    "    # Extract station details\n",
    "    stations = data['network']['stations']\n",
    "    \n",
    "    # Create lists to store extracted details\n",
    "    name = []\n",
    "    latitudes = []\n",
    "    longitudes = []\n",
    "    num_bikes_list = []\n",
    "    \n",
    "    # Iterate through each station and extract details\n",
    "    for station in stations:\n",
    "        name.append(station['name'])\n",
    "        latitudes.append(station['latitude'])\n",
    "        longitudes.append(station['longitude'])\n",
    "        num_bikes_list.append(station['free_bikes'])\n"
   ]
  },
  {
   "cell_type": "markdown",
   "metadata": {},
   "source": [
    "Put your parsed results into a DataFrame."
   ]
  },
  {
   "cell_type": "code",
   "execution_count": null,
   "metadata": {},
   "outputs": [],
   "source": [
    "# Create a DataFrame with the extracted details\n",
    "df = pd.DataFrame({\n",
    "    'Station Name': name,\n",
    "    'Latitude': latitudes,\n",
    "    'Longitude': longitudes,\n",
    "    'Number of Bikes': num_bikes_list\n",
    "})\n",
    "\n",
    "df"
   ]
  },
  {
   "cell_type": "code",
   "execution_count": null,
   "metadata": {},
   "outputs": [],
   "source": [
    "# Specify the file path for the CSV\n",
    "csv_file_path = \"/Users/ojefua/Documents/Projects/lhl-statistical-modelling-project/data/dublin_city_bikes.csv\"\n",
    "\n",
    "# Save the DataFrame to CSV\n",
    "df.to_csv(csv_file_path, index=False)"
   ]
  }
 ],
 "metadata": {
  "kernelspec": {
   "display_name": "Python 3",
   "language": "python",
   "name": "python3"
  },
  "language_info": {
   "codemirror_mode": {
    "name": "ipython",
    "version": 3
   },
   "file_extension": ".py",
   "mimetype": "text/x-python",
   "name": "python",
   "nbconvert_exporter": "python",
   "pygments_lexer": "ipython3",
   "version": "3.8.5"
  }
 },
 "nbformat": 4,
 "nbformat_minor": 4
}
