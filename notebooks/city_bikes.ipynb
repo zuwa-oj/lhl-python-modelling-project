{
 "cells": [
  {
   "cell_type": "markdown",
   "metadata": {},
   "source": [
    "# CityBikes"
   ]
  },
  {
   "cell_type": "markdown",
   "metadata": {},
   "source": [
    "Send a request to CityBikes for the city of your choice. "
   ]
  },
  {
   "cell_type": "code",
   "execution_count": 1,
   "metadata": {},
   "outputs": [],
   "source": [
    "import requests\n",
    "import pandas as pd\n"
   ]
  },
  {
   "cell_type": "code",
   "execution_count": 2,
   "metadata": {},
   "outputs": [],
   "source": [
    "# URL of the API endpoint\n",
    "url = 'https://api.citybik.es/v2/networks/dublinbikes'\n",
    "\n",
    "# GET request to the API\n",
    "response = requests.get(url)"
   ]
  },
  {
   "cell_type": "markdown",
   "metadata": {},
   "source": [
    "Parse through the response to get the details you want for the bike stations in that city (latitude, longitude, number of bikes). "
   ]
  },
  {
   "cell_type": "code",
   "execution_count": 3,
   "metadata": {},
   "outputs": [],
   "source": [
    "# Check if the request was successful (status code 200)\n",
    "if response.status_code != 200:\n",
    "    print(\"Request failed. Status code:\", response.status_code)\n",
    "else:\n",
    "    # Parse the JSON response\n",
    "    data = response.json()\n",
    "    \n",
    "    # Extract station details\n",
    "    stations = data['network']['stations']\n",
    "    \n",
    "    # Create lists to store extracted details\n",
    "    name = []\n",
    "    latitudes = []\n",
    "    longitudes = []\n",
    "    num_bikes_list = []\n",
    "    \n",
    "    # Iterate through each station and extract details\n",
    "    for station in stations:\n",
    "        name.append(station['name'])\n",
    "        latitudes.append(station['latitude'])\n",
    "        longitudes.append(station['longitude'])\n",
    "        num_bikes_list.append(station['free_bikes'])\n"
   ]
  },
  {
   "cell_type": "markdown",
   "metadata": {},
   "source": [
    "Put your parsed results into a DataFrame."
   ]
  },
  {
   "cell_type": "code",
   "execution_count": 4,
   "metadata": {},
   "outputs": [
    {
     "data": {
      "text/html": [
       "<div>\n",
       "<style scoped>\n",
       "    .dataframe tbody tr th:only-of-type {\n",
       "        vertical-align: middle;\n",
       "    }\n",
       "\n",
       "    .dataframe tbody tr th {\n",
       "        vertical-align: top;\n",
       "    }\n",
       "\n",
       "    .dataframe thead th {\n",
       "        text-align: right;\n",
       "    }\n",
       "</style>\n",
       "<table border=\"1\" class=\"dataframe\">\n",
       "  <thead>\n",
       "    <tr style=\"text-align: right;\">\n",
       "      <th></th>\n",
       "      <th>Station Name</th>\n",
       "      <th>Latitude</th>\n",
       "      <th>Longitude</th>\n",
       "      <th>Number of Bikes</th>\n",
       "    </tr>\n",
       "  </thead>\n",
       "  <tbody>\n",
       "    <tr>\n",
       "      <th>0</th>\n",
       "      <td>GEORGES LANE</td>\n",
       "      <td>53.350230</td>\n",
       "      <td>-6.279696</td>\n",
       "      <td>10</td>\n",
       "    </tr>\n",
       "    <tr>\n",
       "      <th>1</th>\n",
       "      <td>NORTH CIRCULAR ROAD (O'CONNELL'S)</td>\n",
       "      <td>53.357841</td>\n",
       "      <td>-6.251557</td>\n",
       "      <td>14</td>\n",
       "    </tr>\n",
       "    <tr>\n",
       "      <th>2</th>\n",
       "      <td>PHIBSBOROUGH ROAD</td>\n",
       "      <td>53.356307</td>\n",
       "      <td>-6.273717</td>\n",
       "      <td>17</td>\n",
       "    </tr>\n",
       "    <tr>\n",
       "      <th>3</th>\n",
       "      <td>SMITHFIELD NORTH</td>\n",
       "      <td>53.349562</td>\n",
       "      <td>-6.278198</td>\n",
       "      <td>16</td>\n",
       "    </tr>\n",
       "    <tr>\n",
       "      <th>4</th>\n",
       "      <td>CLONMEL STREET</td>\n",
       "      <td>53.336021</td>\n",
       "      <td>-6.262980</td>\n",
       "      <td>9</td>\n",
       "    </tr>\n",
       "    <tr>\n",
       "      <th>...</th>\n",
       "      <td>...</td>\n",
       "      <td>...</td>\n",
       "      <td>...</td>\n",
       "      <td>...</td>\n",
       "    </tr>\n",
       "    <tr>\n",
       "      <th>109</th>\n",
       "      <td>JAMES STREET EAST</td>\n",
       "      <td>53.336597</td>\n",
       "      <td>-6.248109</td>\n",
       "      <td>0</td>\n",
       "    </tr>\n",
       "    <tr>\n",
       "      <th>110</th>\n",
       "      <td>PARNELL SQUARE NORTH</td>\n",
       "      <td>53.353742</td>\n",
       "      <td>-6.265301</td>\n",
       "      <td>0</td>\n",
       "    </tr>\n",
       "    <tr>\n",
       "      <th>111</th>\n",
       "      <td>FOWNES STREET UPPER</td>\n",
       "      <td>53.344603</td>\n",
       "      <td>-6.263371</td>\n",
       "      <td>16</td>\n",
       "    </tr>\n",
       "    <tr>\n",
       "      <th>112</th>\n",
       "      <td>SMITHFIELD</td>\n",
       "      <td>53.347692</td>\n",
       "      <td>-6.278214</td>\n",
       "      <td>21</td>\n",
       "    </tr>\n",
       "    <tr>\n",
       "      <th>113</th>\n",
       "      <td>FRANCIS STREET</td>\n",
       "      <td>53.342081</td>\n",
       "      <td>-6.275233</td>\n",
       "      <td>11</td>\n",
       "    </tr>\n",
       "  </tbody>\n",
       "</table>\n",
       "<p>114 rows × 4 columns</p>\n",
       "</div>"
      ],
      "text/plain": [
       "                          Station Name   Latitude  Longitude  Number of Bikes\n",
       "0                         GEORGES LANE  53.350230  -6.279696               10\n",
       "1    NORTH CIRCULAR ROAD (O'CONNELL'S)  53.357841  -6.251557               14\n",
       "2                    PHIBSBOROUGH ROAD  53.356307  -6.273717               17\n",
       "3                     SMITHFIELD NORTH  53.349562  -6.278198               16\n",
       "4                       CLONMEL STREET  53.336021  -6.262980                9\n",
       "..                                 ...        ...        ...              ...\n",
       "109                  JAMES STREET EAST  53.336597  -6.248109                0\n",
       "110               PARNELL SQUARE NORTH  53.353742  -6.265301                0\n",
       "111                FOWNES STREET UPPER  53.344603  -6.263371               16\n",
       "112                         SMITHFIELD  53.347692  -6.278214               21\n",
       "113                     FRANCIS STREET  53.342081  -6.275233               11\n",
       "\n",
       "[114 rows x 4 columns]"
      ]
     },
     "execution_count": 4,
     "metadata": {},
     "output_type": "execute_result"
    }
   ],
   "source": [
    "# Create a DataFrame with the extracted details\n",
    "df = pd.DataFrame({\n",
    "    'Station Name': name,\n",
    "    'Latitude': latitudes,\n",
    "    'Longitude': longitudes,\n",
    "    'Number of Bikes': num_bikes_list\n",
    "})\n",
    "\n",
    "df"
   ]
  },
  {
   "cell_type": "code",
   "execution_count": 6,
   "metadata": {},
   "outputs": [],
   "source": [
    "# Specify the file path for the CSV\n",
    "csv_file_path = \"../data/dublin_city_bikes.csv\"\n",
    "\n",
    "# Save the DataFrame to CSV\n",
    "df.to_csv(csv_file_path, index=False)"
   ]
  },
  {
   "cell_type": "code",
   "execution_count": 8,
   "metadata": {},
   "outputs": [
    {
     "name": "stdout",
     "output_type": "stream",
     "text": [
      "Duplicate Rows:\n"
     ]
    },
    {
     "data": {
      "text/html": [
       "<div>\n",
       "<style scoped>\n",
       "    .dataframe tbody tr th:only-of-type {\n",
       "        vertical-align: middle;\n",
       "    }\n",
       "\n",
       "    .dataframe tbody tr th {\n",
       "        vertical-align: top;\n",
       "    }\n",
       "\n",
       "    .dataframe thead th {\n",
       "        text-align: right;\n",
       "    }\n",
       "</style>\n",
       "<table border=\"1\" class=\"dataframe\">\n",
       "  <thead>\n",
       "    <tr style=\"text-align: right;\">\n",
       "      <th></th>\n",
       "      <th>Station Name</th>\n",
       "      <th>Latitude</th>\n",
       "      <th>Longitude</th>\n",
       "      <th>Number of Bikes</th>\n",
       "    </tr>\n",
       "  </thead>\n",
       "  <tbody>\n",
       "  </tbody>\n",
       "</table>\n",
       "</div>"
      ],
      "text/plain": [
       "Empty DataFrame\n",
       "Columns: [Station Name, Latitude, Longitude, Number of Bikes]\n",
       "Index: []"
      ]
     },
     "execution_count": 8,
     "metadata": {},
     "output_type": "execute_result"
    }
   ],
   "source": [
    "duplicate_rows = df[df.duplicated()]\n",
    "\n",
    "print(\"Duplicate Rows:\")\n",
    "duplicate_rows"
   ]
  }
 ],
 "metadata": {
  "kernelspec": {
   "display_name": "Python 3",
   "language": "python",
   "name": "python3"
  },
  "language_info": {
   "codemirror_mode": {
    "name": "ipython",
    "version": 3
   },
   "file_extension": ".py",
   "mimetype": "text/x-python",
   "name": "python",
   "nbconvert_exporter": "python",
   "pygments_lexer": "ipython3",
   "version": "3.11.4"
  }
 },
 "nbformat": 4,
 "nbformat_minor": 4
}
