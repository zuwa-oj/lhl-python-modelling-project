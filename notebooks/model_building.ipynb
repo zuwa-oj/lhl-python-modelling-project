{
 "cells": [
  {
   "cell_type": "markdown",
   "metadata": {},
   "source": [
    "Build a regression model."
   ]
  },
  {
   "cell_type": "code",
   "execution_count": 1,
   "metadata": {},
   "outputs": [],
   "source": [
    "import pandas as pd\n",
    "import seaborn as sns\n",
    "import matplotlib.pyplot as plt\n",
    "import statsmodels.api as sm"
   ]
  },
  {
   "cell_type": "code",
   "execution_count": 2,
   "metadata": {},
   "outputs": [
    {
     "data": {
      "text/html": [
       "<div>\n",
       "<style scoped>\n",
       "    .dataframe tbody tr th:only-of-type {\n",
       "        vertical-align: middle;\n",
       "    }\n",
       "\n",
       "    .dataframe tbody tr th {\n",
       "        vertical-align: top;\n",
       "    }\n",
       "\n",
       "    .dataframe thead th {\n",
       "        text-align: right;\n",
       "    }\n",
       "</style>\n",
       "<table border=\"1\" class=\"dataframe\">\n",
       "  <thead>\n",
       "    <tr style=\"text-align: right;\">\n",
       "      <th></th>\n",
       "      <th>Average_rating_F</th>\n",
       "      <th>Average_dist_F</th>\n",
       "      <th>Average_rating_Y</th>\n",
       "      <th>Average_distance_Y</th>\n",
       "      <th>Number of Bikes</th>\n",
       "    </tr>\n",
       "  </thead>\n",
       "  <tbody>\n",
       "    <tr>\n",
       "      <th>0</th>\n",
       "      <td>9.09</td>\n",
       "      <td>618.5</td>\n",
       "      <td>4.725</td>\n",
       "      <td>813.634974</td>\n",
       "      <td>10</td>\n",
       "    </tr>\n",
       "    <tr>\n",
       "      <th>1</th>\n",
       "      <td>8.90</td>\n",
       "      <td>824.0</td>\n",
       "      <td>4.675</td>\n",
       "      <td>852.302705</td>\n",
       "      <td>14</td>\n",
       "    </tr>\n",
       "    <tr>\n",
       "      <th>2</th>\n",
       "      <td>8.98</td>\n",
       "      <td>999.3</td>\n",
       "      <td>4.725</td>\n",
       "      <td>834.061440</td>\n",
       "      <td>17</td>\n",
       "    </tr>\n",
       "    <tr>\n",
       "      <th>3</th>\n",
       "      <td>9.13</td>\n",
       "      <td>584.4</td>\n",
       "      <td>4.750</td>\n",
       "      <td>777.232101</td>\n",
       "      <td>16</td>\n",
       "    </tr>\n",
       "    <tr>\n",
       "      <th>4</th>\n",
       "      <td>9.22</td>\n",
       "      <td>709.7</td>\n",
       "      <td>4.775</td>\n",
       "      <td>689.425498</td>\n",
       "      <td>9</td>\n",
       "    </tr>\n",
       "    <tr>\n",
       "      <th>...</th>\n",
       "      <td>...</td>\n",
       "      <td>...</td>\n",
       "      <td>...</td>\n",
       "      <td>...</td>\n",
       "      <td>...</td>\n",
       "    </tr>\n",
       "    <tr>\n",
       "      <th>109</th>\n",
       "      <td>9.14</td>\n",
       "      <td>782.5</td>\n",
       "      <td>4.675</td>\n",
       "      <td>690.606529</td>\n",
       "      <td>0</td>\n",
       "    </tr>\n",
       "    <tr>\n",
       "      <th>110</th>\n",
       "      <td>9.09</td>\n",
       "      <td>646.9</td>\n",
       "      <td>4.800</td>\n",
       "      <td>625.914671</td>\n",
       "      <td>0</td>\n",
       "    </tr>\n",
       "    <tr>\n",
       "      <th>111</th>\n",
       "      <td>9.23</td>\n",
       "      <td>433.1</td>\n",
       "      <td>4.875</td>\n",
       "      <td>676.468985</td>\n",
       "      <td>16</td>\n",
       "    </tr>\n",
       "    <tr>\n",
       "      <th>112</th>\n",
       "      <td>9.14</td>\n",
       "      <td>567.5</td>\n",
       "      <td>4.775</td>\n",
       "      <td>768.840359</td>\n",
       "      <td>21</td>\n",
       "    </tr>\n",
       "    <tr>\n",
       "      <th>113</th>\n",
       "      <td>9.17</td>\n",
       "      <td>704.7</td>\n",
       "      <td>4.825</td>\n",
       "      <td>835.191243</td>\n",
       "      <td>11</td>\n",
       "    </tr>\n",
       "  </tbody>\n",
       "</table>\n",
       "<p>114 rows × 5 columns</p>\n",
       "</div>"
      ],
      "text/plain": [
       "     Average_rating_F  Average_dist_F  Average_rating_Y  Average_distance_Y  \\\n",
       "0                9.09           618.5             4.725          813.634974   \n",
       "1                8.90           824.0             4.675          852.302705   \n",
       "2                8.98           999.3             4.725          834.061440   \n",
       "3                9.13           584.4             4.750          777.232101   \n",
       "4                9.22           709.7             4.775          689.425498   \n",
       "..                ...             ...               ...                 ...   \n",
       "109              9.14           782.5             4.675          690.606529   \n",
       "110              9.09           646.9             4.800          625.914671   \n",
       "111              9.23           433.1             4.875          676.468985   \n",
       "112              9.14           567.5             4.775          768.840359   \n",
       "113              9.17           704.7             4.825          835.191243   \n",
       "\n",
       "     Number of Bikes  \n",
       "0                 10  \n",
       "1                 14  \n",
       "2                 17  \n",
       "3                 16  \n",
       "4                  9  \n",
       "..               ...  \n",
       "109                0  \n",
       "110                0  \n",
       "111               16  \n",
       "112               21  \n",
       "113               11  \n",
       "\n",
       "[114 rows x 5 columns]"
      ]
     },
     "execution_count": 2,
     "metadata": {},
     "output_type": "execute_result"
    }
   ],
   "source": [
    "df_features = pd.read_csv(\"../data/features.csv\")\n",
    "df_features"
   ]
  },
  {
   "cell_type": "code",
   "execution_count": 5,
   "metadata": {},
   "outputs": [
    {
     "data": {
      "text/html": [
       "<div>\n",
       "<style scoped>\n",
       "    .dataframe tbody tr th:only-of-type {\n",
       "        vertical-align: middle;\n",
       "    }\n",
       "\n",
       "    .dataframe tbody tr th {\n",
       "        vertical-align: top;\n",
       "    }\n",
       "\n",
       "    .dataframe thead th {\n",
       "        text-align: right;\n",
       "    }\n",
       "</style>\n",
       "<table border=\"1\" class=\"dataframe\">\n",
       "  <thead>\n",
       "    <tr style=\"text-align: right;\">\n",
       "      <th></th>\n",
       "      <th>Average_rating_F</th>\n",
       "      <th>Average_dist_F</th>\n",
       "      <th>Average_rating_Y</th>\n",
       "      <th>Average_distance_Y</th>\n",
       "      <th>Number of Bikes</th>\n",
       "    </tr>\n",
       "  </thead>\n",
       "  <tbody>\n",
       "    <tr>\n",
       "      <th>Average_rating_F</th>\n",
       "      <td>1.000000</td>\n",
       "      <td>-0.004513</td>\n",
       "      <td>0.855557</td>\n",
       "      <td>-0.243149</td>\n",
       "      <td>0.128112</td>\n",
       "    </tr>\n",
       "    <tr>\n",
       "      <th>Average_dist_F</th>\n",
       "      <td>-0.004513</td>\n",
       "      <td>1.000000</td>\n",
       "      <td>0.009763</td>\n",
       "      <td>0.329463</td>\n",
       "      <td>-0.241534</td>\n",
       "    </tr>\n",
       "    <tr>\n",
       "      <th>Average_rating_Y</th>\n",
       "      <td>0.855557</td>\n",
       "      <td>0.009763</td>\n",
       "      <td>1.000000</td>\n",
       "      <td>-0.147352</td>\n",
       "      <td>0.075879</td>\n",
       "    </tr>\n",
       "    <tr>\n",
       "      <th>Average_distance_Y</th>\n",
       "      <td>-0.243149</td>\n",
       "      <td>0.329463</td>\n",
       "      <td>-0.147352</td>\n",
       "      <td>1.000000</td>\n",
       "      <td>0.146536</td>\n",
       "    </tr>\n",
       "    <tr>\n",
       "      <th>Number of Bikes</th>\n",
       "      <td>0.128112</td>\n",
       "      <td>-0.241534</td>\n",
       "      <td>0.075879</td>\n",
       "      <td>0.146536</td>\n",
       "      <td>1.000000</td>\n",
       "    </tr>\n",
       "  </tbody>\n",
       "</table>\n",
       "</div>"
      ],
      "text/plain": [
       "                    Average_rating_F  Average_dist_F  Average_rating_Y  \\\n",
       "Average_rating_F            1.000000       -0.004513          0.855557   \n",
       "Average_dist_F             -0.004513        1.000000          0.009763   \n",
       "Average_rating_Y            0.855557        0.009763          1.000000   \n",
       "Average_distance_Y         -0.243149        0.329463         -0.147352   \n",
       "Number of Bikes             0.128112       -0.241534          0.075879   \n",
       "\n",
       "                    Average_distance_Y  Number of Bikes  \n",
       "Average_rating_F             -0.243149         0.128112  \n",
       "Average_dist_F                0.329463        -0.241534  \n",
       "Average_rating_Y             -0.147352         0.075879  \n",
       "Average_distance_Y            1.000000         0.146536  \n",
       "Number of Bikes               0.146536         1.000000  "
      ]
     },
     "execution_count": 5,
     "metadata": {},
     "output_type": "execute_result"
    }
   ],
   "source": [
    "correlation_matrix = df_features.corr(numeric_only=True)\n",
    "correlation_matrix"
   ]
  },
  {
   "cell_type": "code",
   "execution_count": 6,
   "metadata": {},
   "outputs": [
    {
     "data": {
      "text/html": [
       "<div>\n",
       "<style scoped>\n",
       "    .dataframe tbody tr th:only-of-type {\n",
       "        vertical-align: middle;\n",
       "    }\n",
       "\n",
       "    .dataframe tbody tr th {\n",
       "        vertical-align: top;\n",
       "    }\n",
       "\n",
       "    .dataframe thead th {\n",
       "        text-align: right;\n",
       "    }\n",
       "</style>\n",
       "<table border=\"1\" class=\"dataframe\">\n",
       "  <thead>\n",
       "    <tr style=\"text-align: right;\">\n",
       "      <th></th>\n",
       "      <th>const</th>\n",
       "      <th>Average_distance_Y</th>\n",
       "      <th>Average_rating_F</th>\n",
       "      <th>Average_dist_F</th>\n",
       "    </tr>\n",
       "  </thead>\n",
       "  <tbody>\n",
       "    <tr>\n",
       "      <th>0</th>\n",
       "      <td>1.0</td>\n",
       "      <td>813.634974</td>\n",
       "      <td>9.09</td>\n",
       "      <td>618.5</td>\n",
       "    </tr>\n",
       "    <tr>\n",
       "      <th>1</th>\n",
       "      <td>1.0</td>\n",
       "      <td>852.302705</td>\n",
       "      <td>8.90</td>\n",
       "      <td>824.0</td>\n",
       "    </tr>\n",
       "    <tr>\n",
       "      <th>2</th>\n",
       "      <td>1.0</td>\n",
       "      <td>834.061440</td>\n",
       "      <td>8.98</td>\n",
       "      <td>999.3</td>\n",
       "    </tr>\n",
       "    <tr>\n",
       "      <th>3</th>\n",
       "      <td>1.0</td>\n",
       "      <td>777.232101</td>\n",
       "      <td>9.13</td>\n",
       "      <td>584.4</td>\n",
       "    </tr>\n",
       "    <tr>\n",
       "      <th>4</th>\n",
       "      <td>1.0</td>\n",
       "      <td>689.425498</td>\n",
       "      <td>9.22</td>\n",
       "      <td>709.7</td>\n",
       "    </tr>\n",
       "  </tbody>\n",
       "</table>\n",
       "</div>"
      ],
      "text/plain": [
       "   const  Average_distance_Y  Average_rating_F  Average_dist_F\n",
       "0    1.0          813.634974              9.09           618.5\n",
       "1    1.0          852.302705              8.90           824.0\n",
       "2    1.0          834.061440              8.98           999.3\n",
       "3    1.0          777.232101              9.13           584.4\n",
       "4    1.0          689.425498              9.22           709.7"
      ]
     },
     "execution_count": 6,
     "metadata": {},
     "output_type": "execute_result"
    }
   ],
   "source": [
    "y = df_features['Number of Bikes']\n",
    "X = df_features[['Average_distance_Y', 'Average_rating_F', 'Average_dist_F']]\n",
    "X = sm.add_constant(X)  # adds a column of 1's for the intercept\n",
    "X.head()"
   ]
  },
  {
   "cell_type": "code",
   "execution_count": 7,
   "metadata": {},
   "outputs": [],
   "source": [
    "model = sm.OLS(y, X)\n",
    "results = model.fit() #fit the model (this is where OLS is actually being run)"
   ]
  },
  {
   "cell_type": "markdown",
   "metadata": {},
   "source": [
    "Provide model output and an interpretation of the results. "
   ]
  },
  {
   "cell_type": "code",
   "execution_count": 8,
   "metadata": {},
   "outputs": [
    {
     "name": "stdout",
     "output_type": "stream",
     "text": [
      "                            OLS Regression Results                            \n",
      "==============================================================================\n",
      "Dep. Variable:        Number of Bikes   R-squared:                       0.154\n",
      "Model:                            OLS   Adj. R-squared:                  0.131\n",
      "Method:                 Least Squares   F-statistic:                     6.656\n",
      "Date:                Sun, 27 Aug 2023   Prob (F-statistic):           0.000358\n",
      "Time:                        21:55:28   Log-Likelihood:                -422.25\n",
      "No. Observations:                 114   AIC:                             852.5\n",
      "Df Residuals:                     110   BIC:                             863.4\n",
      "Df Model:                           3                                         \n",
      "Covariance Type:            nonrobust                                         \n",
      "======================================================================================\n",
      "                         coef    std err          t      P>|t|      [0.025      0.975]\n",
      "--------------------------------------------------------------------------------------\n",
      "const                -74.2776     40.032     -1.855      0.066    -153.612       5.057\n",
      "Average_distance_Y     0.0371      0.012      3.208      0.002       0.014       0.060\n",
      "Average_rating_F       9.2016      4.143      2.221      0.028       0.991      17.412\n",
      "Average_dist_F        -0.0358      0.010     -3.671      0.000      -0.055      -0.016\n",
      "==============================================================================\n",
      "Omnibus:                       11.459   Durbin-Watson:                   1.902\n",
      "Prob(Omnibus):                  0.003   Jarque-Bera (JB):               12.309\n",
      "Skew:                           0.801   Prob(JB):                      0.00212\n",
      "Kurtosis:                       3.158   Cond. No.                     4.42e+04\n",
      "==============================================================================\n",
      "\n",
      "Notes:\n",
      "[1] Standard Errors assume that the covariance matrix of the errors is correctly specified.\n",
      "[2] The condition number is large, 4.42e+04. This might indicate that there are\n",
      "strong multicollinearity or other numerical problems.\n"
     ]
    }
   ],
   "source": [
    "print(results.summary())"
   ]
  },
  {
   "cell_type": "code",
   "execution_count": null,
   "metadata": {},
   "outputs": [],
   "source": [
    "# Interpretation Summary\n",
    "\n",
    "Overall, the model suggests that the characteristics of the POIs have a statistically significant impact on the estimated Number of bikes for a given station. \n",
    "\n",
    "\n",
    "However the Adj. R-squared indicating the goodness of fit of the model shows that around 13% of the variability in Number of bikes can be explained by the independent variables."
   ]
  },
  {
   "cell_type": "code",
   "execution_count": null,
   "metadata": {},
   "outputs": [],
   "source": []
  },
  {
   "cell_type": "code",
   "execution_count": null,
   "metadata": {},
   "outputs": [],
   "source": []
  },
  {
   "cell_type": "code",
   "execution_count": 9,
   "metadata": {},
   "outputs": [
    {
     "data": {
      "image/png": "[encoded data removed]",
      "text/plain": [
       "<Figure size 640x480 with 1 Axes>"
      ]
     },
     "metadata": {},
     "output_type": "display_data"
    }
   ],
   "source": [
    "residuals = results.resid\n",
    "\n",
    "sns.histplot(residuals)\n",
    "plt.show()"
   ]
  },
  {
   "cell_type": "code",
   "execution_count": 10,
   "metadata": {},
   "outputs": [
    {
     "data": {
      "text/plain": [
       "const                -74.277596\n",
       "Average_distance_Y     0.037074\n",
       "Average_rating_F       9.201621\n",
       "Average_dist_F        -0.035789\n",
       "dtype: float64"
      ]
     },
     "execution_count": 10,
     "metadata": {},
     "output_type": "execute_result"
    }
   ],
   "source": [
    "# To extract the co-efficients\n",
    "results.params"
   ]
  },
  {
   "cell_type": "code",
   "execution_count": 16,
   "metadata": {},
   "outputs": [
    {
     "data": {
      "text/plain": [
       "2.4172871567764105"
      ]
     },
     "execution_count": 16,
     "metadata": {},
     "output_type": "execute_result"
    }
   ],
   "source": [
    "# The model equation for prediction is: number_of_bikes = b0 + b1*known_distance_Y + b2*known_rating + b3*known_dist_F\n",
    "\n",
    "b0 = results.params['const']\n",
    "b1 = results.params['Average_distance_Y']\n",
    "b2 = results.params['Average_rating_F']\n",
    "b3 = results.params['Average_dist_F']\n",
    "\n",
    "known_distance_Y = 585\n",
    "known_rating = 9\n",
    "known_dist_F = 777\n",
    "predicted_num_bikes = b0 + b1*known_distance_Y + b2*known_rating + b3*known_dist_F\n",
    "predicted_num_bikes\n"
   ]
  },
  {
   "cell_type": "markdown",
   "metadata": {},
   "source": [
    "# Stretch"
   ]
  },
  {
   "cell_type": "markdown",
   "metadata": {},
   "source": [
    "How can you turn the regression model into a classification model?"
   ]
  },
  {
   "cell_type": "code",
   "execution_count": null,
   "metadata": {},
   "outputs": [],
   "source": []
  }
 ],
 "metadata": {
  "kernelspec": {
   "display_name": "Python 3",
   "language": "python",
   "name": "python3"
  },
  "language_info": {
   "codemirror_mode": {
    "name": "ipython",
    "version": 3
   },
   "file_extension": ".py",
   "mimetype": "text/x-python",
   "name": "python",
   "nbconvert_exporter": "python",
   "pygments_lexer": "ipython3",
   "version": "3.11.4"
  }
 },
 "nbformat": 4,
 "nbformat_minor": 4
}
