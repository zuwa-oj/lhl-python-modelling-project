{
 "cells": [
  {
   "cell_type": "markdown",
   "metadata": {},
   "source": [
    "Build a regression model."
   ]
  },
  {
   "cell_type": "code",
   "execution_count": null,
   "metadata": {},
   "outputs": [],
   "source": [
    "import pandas as pd\n",
    "import seaborn as sns\n",
    "import matplotlib.pyplot as plt\n",
    "import statsmodels.api as sm\n",
    "from sklearn.linear_model import LinearRegression"
   ]
  },
  {
   "cell_type": "code",
   "execution_count": null,
   "metadata": {},
   "outputs": [],
   "source": [
    "df_foursquare = pd.read_csv(\"/Users/ojefua/Documents/Projects/lhl-statistical-modelling-project/data/foursquare_features.csv\")\n",
    "df_yelp = pd.read_csv(\"/Users/ojefua/Documents/Projects/lhl-statistical-modelling-project/data/yelp_features.csv\")\n",
    "df2 = pd.read_csv(\"/Users/ojefua/Documents/Projects/lhl-statistical-modelling-project/data/dublin_city_bikes.csv\")\n",
    "\n",
    "df_poi = pd.merge(df_foursquare, df_yelp, on=['Latitude','Longitude'])\n",
    "df_all = pd.merge(df_poi, df2, on=['Latitude','Longitude'])\n",
    "df_all"
   ]
  },
  {
   "cell_type": "code",
   "execution_count": null,
   "metadata": {},
   "outputs": [],
   "source": [
    "import scipy\n",
    "\n",
    "stat, p1 = scipy.stats.pearsonr(df_all['Number of Bikes'], df_all['Average_popularity_F'])\n",
    "stat, p2 = scipy.stats.pearsonr(df_all['Number of Bikes'], df_all['Average_rating_F'])\n",
    "stat, p3 = scipy.stats.pearsonr(df_all['Number of Bikes'], df_all['Average_rating_Y'])\n",
    "\n",
    "stat, p4 = scipy.stats.pearsonr(df_all['Number of Bikes'], df_all['Average_review_count_Y'])\n",
    "stat, p5 = scipy.stats.pearsonr(df_all['Number of Bikes'], df_all['Longitude'])\n",
    "stat, p6 = scipy.stats.pearsonr(df_all['Number of Bikes'], df_all['Average_distance_Y'])\n",
    "\n",
    "print(p1, p2, p3, p4, p5, p6, sep='\\n\\n')"
   ]
  },
  {
   "cell_type": "code",
   "execution_count": null,
   "metadata": {},
   "outputs": [],
   "source": [
    "y = df_all['Number of Bikes']\n",
    "X = df_all['Average_rating_F']\n",
    "X = sm.add_constant(X) #adds a column of 1's so the model will contain an intercept, bias\n",
    "X.head()"
   ]
  },
  {
   "cell_type": "code",
   "execution_count": null,
   "metadata": {},
   "outputs": [],
   "source": [
    "model = sm.OLS(y, X)\n",
    "results = model.fit() #fit the model (this is where OLS is actually being run)"
   ]
  },
  {
   "cell_type": "markdown",
   "metadata": {},
   "source": [
    "Provide model output and an interpretation of the results. "
   ]
  },
  {
   "cell_type": "code",
   "execution_count": null,
   "metadata": {},
   "outputs": [],
   "source": [
    "print(results.summary())"
   ]
  },
  {
   "cell_type": "code",
   "execution_count": null,
   "metadata": {},
   "outputs": [],
   "source": [
    "residuals = results.resid\n",
    "\n",
    "sns.histplot(residuals)\n",
    "plt.show()"
   ]
  },
  {
   "cell_type": "code",
   "execution_count": null,
   "metadata": {},
   "outputs": [],
   "source": [
    "# To extract the co-efficients\n",
    "results.params"
   ]
  },
  {
   "cell_type": "code",
   "execution_count": null,
   "metadata": {},
   "outputs": [],
   "source": [
    "# The model equation for prediction is: number_of_bikes = (m * Average_rating) + b\n",
    "b = results.params['const']\n",
    "m = results.params['Average_rating_F']\n",
    "\n",
    "known_rating = 5\n",
    "predicted_num_bikes = m*known_rating + b\n",
    "predicted_num_bikes"
   ]
  },
  {
   "cell_type": "markdown",
   "metadata": {},
   "source": [
    "# Stretch"
   ]
  },
  {
   "cell_type": "markdown",
   "metadata": {},
   "source": [
    "How can you turn the regression model into a classification model?"
   ]
  },
  {
   "cell_type": "code",
   "execution_count": null,
   "metadata": {},
   "outputs": [],
   "source": []
  }
 ],
 "metadata": {
  "kernelspec": {
   "display_name": "Python 3",
   "language": "python",
   "name": "python3"
  },
  "language_info": {
   "codemirror_mode": {
    "name": "ipython",
    "version": 3
   },
   "file_extension": ".py",
   "mimetype": "text/x-python",
   "name": "python",
   "nbconvert_exporter": "python",
   "pygments_lexer": "ipython3",
   "version": "3.8.5"
  }
 },
 "nbformat": 4,
 "nbformat_minor": 4
}
