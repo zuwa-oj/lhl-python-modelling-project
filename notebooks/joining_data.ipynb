{
 "cells": [
  {
   "cell_type": "code",
   "execution_count": 1,
   "metadata": {},
   "outputs": [],
   "source": [
    "# imports\n",
    "import pandas as pd\n",
    "\n",
    "df_foursquare = pd.read_csv(\"/Users/ojefua/Documents/Projects/lhl-statistical-modelling-project/data/foursquare_features.csv\")\n",
    "df_yelp = pd.read_csv(\"/Users/ojefua/Documents/Projects/lhl-statistical-modelling-project/data/yelp_features.csv\")\n",
    "df2 = pd.read_csv(\"/Users/ojefua/Documents/Projects/lhl-statistical-modelling-project/data/dublin_city_bikes.csv\")"
   ]
  },
  {
   "cell_type": "markdown",
   "metadata": {},
   "source": [
    "Join the data from Part 1 with the data from Part 2 to create a new dataframe."
   ]
  },
  {
   "cell_type": "code",
   "execution_count": 3,
   "metadata": {},
   "outputs": [
    {
     "data": {
      "text/html": [
       "<div>\n",
       "<style scoped>\n",
       "    .dataframe tbody tr th:only-of-type {\n",
       "        vertical-align: middle;\n",
       "    }\n",
       "\n",
       "    .dataframe tbody tr th {\n",
       "        vertical-align: top;\n",
       "    }\n",
       "\n",
       "    .dataframe thead th {\n",
       "        text-align: right;\n",
       "    }\n",
       "</style>\n",
       "<table border=\"1\" class=\"dataframe\">\n",
       "  <thead>\n",
       "    <tr style=\"text-align: right;\">\n",
       "      <th></th>\n",
       "      <th>Latitude</th>\n",
       "      <th>Longitude</th>\n",
       "      <th>Average_dist_F</th>\n",
       "      <th>Average_popularity_F</th>\n",
       "      <th>Average_rating_F</th>\n",
       "      <th>Average_distance_Y</th>\n",
       "      <th>Average_review_count_Y</th>\n",
       "      <th>Average_rating_Y</th>\n",
       "      <th>Station Name</th>\n",
       "      <th>Number of Bikes</th>\n",
       "    </tr>\n",
       "  </thead>\n",
       "  <tbody>\n",
       "    <tr>\n",
       "      <th>0</th>\n",
       "      <td>53.350230</td>\n",
       "      <td>-6.279696</td>\n",
       "      <td>606.1</td>\n",
       "      <td>0.967403</td>\n",
       "      <td>9.09</td>\n",
       "      <td>813.634974</td>\n",
       "      <td>21.05</td>\n",
       "      <td>4.725</td>\n",
       "      <td>GEORGES LANE</td>\n",
       "      <td>17</td>\n",
       "    </tr>\n",
       "    <tr>\n",
       "      <th>1</th>\n",
       "      <td>53.357841</td>\n",
       "      <td>-6.251557</td>\n",
       "      <td>824.0</td>\n",
       "      <td>0.963300</td>\n",
       "      <td>8.91</td>\n",
       "      <td>852.302705</td>\n",
       "      <td>28.95</td>\n",
       "      <td>4.675</td>\n",
       "      <td>NORTH CIRCULAR ROAD (O'CONNELL'S)</td>\n",
       "      <td>28</td>\n",
       "    </tr>\n",
       "    <tr>\n",
       "      <th>2</th>\n",
       "      <td>53.356307</td>\n",
       "      <td>-6.273717</td>\n",
       "      <td>999.3</td>\n",
       "      <td>0.969428</td>\n",
       "      <td>9.01</td>\n",
       "      <td>839.916357</td>\n",
       "      <td>19.25</td>\n",
       "      <td>4.725</td>\n",
       "      <td>PHIBSBOROUGH ROAD</td>\n",
       "      <td>2</td>\n",
       "    </tr>\n",
       "    <tr>\n",
       "      <th>3</th>\n",
       "      <td>53.349562</td>\n",
       "      <td>-6.278198</td>\n",
       "      <td>584.4</td>\n",
       "      <td>0.972062</td>\n",
       "      <td>9.13</td>\n",
       "      <td>777.232101</td>\n",
       "      <td>16.45</td>\n",
       "      <td>4.750</td>\n",
       "      <td>SMITHFIELD NORTH</td>\n",
       "      <td>23</td>\n",
       "    </tr>\n",
       "    <tr>\n",
       "      <th>4</th>\n",
       "      <td>53.336021</td>\n",
       "      <td>-6.262980</td>\n",
       "      <td>709.7</td>\n",
       "      <td>0.990946</td>\n",
       "      <td>9.20</td>\n",
       "      <td>689.425498</td>\n",
       "      <td>29.90</td>\n",
       "      <td>4.775</td>\n",
       "      <td>CLONMEL STREET</td>\n",
       "      <td>3</td>\n",
       "    </tr>\n",
       "    <tr>\n",
       "      <th>...</th>\n",
       "      <td>...</td>\n",
       "      <td>...</td>\n",
       "      <td>...</td>\n",
       "      <td>...</td>\n",
       "      <td>...</td>\n",
       "      <td>...</td>\n",
       "      <td>...</td>\n",
       "      <td>...</td>\n",
       "      <td>...</td>\n",
       "      <td>...</td>\n",
       "    </tr>\n",
       "    <tr>\n",
       "      <th>109</th>\n",
       "      <td>53.336597</td>\n",
       "      <td>-6.248109</td>\n",
       "      <td>782.5</td>\n",
       "      <td>0.976231</td>\n",
       "      <td>9.13</td>\n",
       "      <td>690.606529</td>\n",
       "      <td>18.15</td>\n",
       "      <td>4.675</td>\n",
       "      <td>JAMES STREET EAST</td>\n",
       "      <td>0</td>\n",
       "    </tr>\n",
       "    <tr>\n",
       "      <th>110</th>\n",
       "      <td>53.353742</td>\n",
       "      <td>-6.265301</td>\n",
       "      <td>646.9</td>\n",
       "      <td>0.967628</td>\n",
       "      <td>9.10</td>\n",
       "      <td>625.914671</td>\n",
       "      <td>17.00</td>\n",
       "      <td>4.800</td>\n",
       "      <td>PARNELL SQUARE NORTH</td>\n",
       "      <td>1</td>\n",
       "    </tr>\n",
       "    <tr>\n",
       "      <th>111</th>\n",
       "      <td>53.344603</td>\n",
       "      <td>-6.263371</td>\n",
       "      <td>433.1</td>\n",
       "      <td>0.990964</td>\n",
       "      <td>9.22</td>\n",
       "      <td>676.468985</td>\n",
       "      <td>15.85</td>\n",
       "      <td>4.875</td>\n",
       "      <td>FOWNES STREET UPPER</td>\n",
       "      <td>18</td>\n",
       "    </tr>\n",
       "    <tr>\n",
       "      <th>112</th>\n",
       "      <td>53.347692</td>\n",
       "      <td>-6.278214</td>\n",
       "      <td>566.9</td>\n",
       "      <td>0.971522</td>\n",
       "      <td>9.14</td>\n",
       "      <td>768.840359</td>\n",
       "      <td>15.25</td>\n",
       "      <td>4.775</td>\n",
       "      <td>SMITHFIELD</td>\n",
       "      <td>14</td>\n",
       "    </tr>\n",
       "    <tr>\n",
       "      <th>113</th>\n",
       "      <td>53.342081</td>\n",
       "      <td>-6.275233</td>\n",
       "      <td>704.7</td>\n",
       "      <td>0.978399</td>\n",
       "      <td>9.16</td>\n",
       "      <td>835.191243</td>\n",
       "      <td>26.60</td>\n",
       "      <td>4.825</td>\n",
       "      <td>FRANCIS STREET</td>\n",
       "      <td>9</td>\n",
       "    </tr>\n",
       "  </tbody>\n",
       "</table>\n",
       "<p>114 rows × 10 columns</p>\n",
       "</div>"
      ],
      "text/plain": [
       "      Latitude  Longitude  Average_dist_F  Average_popularity_F  \\\n",
       "0    53.350230  -6.279696           606.1              0.967403   \n",
       "1    53.357841  -6.251557           824.0              0.963300   \n",
       "2    53.356307  -6.273717           999.3              0.969428   \n",
       "3    53.349562  -6.278198           584.4              0.972062   \n",
       "4    53.336021  -6.262980           709.7              0.990946   \n",
       "..         ...        ...             ...                   ...   \n",
       "109  53.336597  -6.248109           782.5              0.976231   \n",
       "110  53.353742  -6.265301           646.9              0.967628   \n",
       "111  53.344603  -6.263371           433.1              0.990964   \n",
       "112  53.347692  -6.278214           566.9              0.971522   \n",
       "113  53.342081  -6.275233           704.7              0.978399   \n",
       "\n",
       "     Average_rating_F  Average_distance_Y  Average_review_count_Y  \\\n",
       "0                9.09          813.634974                   21.05   \n",
       "1                8.91          852.302705                   28.95   \n",
       "2                9.01          839.916357                   19.25   \n",
       "3                9.13          777.232101                   16.45   \n",
       "4                9.20          689.425498                   29.90   \n",
       "..                ...                 ...                     ...   \n",
       "109              9.13          690.606529                   18.15   \n",
       "110              9.10          625.914671                   17.00   \n",
       "111              9.22          676.468985                   15.85   \n",
       "112              9.14          768.840359                   15.25   \n",
       "113              9.16          835.191243                   26.60   \n",
       "\n",
       "     Average_rating_Y                       Station Name  Number of Bikes  \n",
       "0               4.725                       GEORGES LANE               17  \n",
       "1               4.675  NORTH CIRCULAR ROAD (O'CONNELL'S)               28  \n",
       "2               4.725                  PHIBSBOROUGH ROAD                2  \n",
       "3               4.750                   SMITHFIELD NORTH               23  \n",
       "4               4.775                     CLONMEL STREET                3  \n",
       "..                ...                                ...              ...  \n",
       "109             4.675                  JAMES STREET EAST                0  \n",
       "110             4.800               PARNELL SQUARE NORTH                1  \n",
       "111             4.875                FOWNES STREET UPPER               18  \n",
       "112             4.775                         SMITHFIELD               14  \n",
       "113             4.825                     FRANCIS STREET                9  \n",
       "\n",
       "[114 rows x 10 columns]"
      ]
     },
     "execution_count": 3,
     "metadata": {},
     "output_type": "execute_result"
    }
   ],
   "source": [
    "df_poi = pd.merge(df_foursquare, df_yelp, on=['Latitude','Longitude'])\n",
    "df_all = pd.merge(df_poi, df2, on=['Latitude','Longitude'])\n",
    "df_all"
   ]
  },
  {
   "cell_type": "markdown",
   "metadata": {},
   "source": [
    "Provide a visualization that you used as part of your EDA process. Explain the initial pattern or relationship you discoved through this visualization. "
   ]
  },
  {
   "cell_type": "code",
   "execution_count": null,
   "metadata": {},
   "outputs": [],
   "source": [
    "import matplotlib.pyplot as plt\n",
    "import seaborn as sns"
   ]
  },
  {
   "cell_type": "code",
   "execution_count": null,
   "metadata": {},
   "outputs": [],
   "source": [
    "sns.set(style=\"ticks\", color_codes=True)\n",
    "\n",
    "g = sns.pairplot(df_all, diag_kind=\"kde\")\n",
    "\n",
    "plt.show()"
   ]
  },
  {
   "cell_type": "code",
   "execution_count": null,
   "metadata": {},
   "outputs": [],
   "source": [
    "correlation_matrix = df_all.corr(numeric_only=True)\n",
    "correlation_matrix"
   ]
  },
  {
   "cell_type": "code",
   "execution_count": null,
   "metadata": {},
   "outputs": [],
   "source": [
    "plt.figure(figsize=(10, 8))\n",
    "\n",
    "sns.heatmap(correlation_matrix, annot=True, cmap='coolwarm', center=0)\n",
    "\n",
    "plt.title(\"Correlation Heatmap\")\n",
    "plt.show()"
   ]
  },
  {
   "cell_type": "code",
   "execution_count": null,
   "metadata": {},
   "outputs": [],
   "source": []
  },
  {
   "cell_type": "markdown",
   "metadata": {},
   "source": [
    "# Database"
   ]
  },
  {
   "cell_type": "markdown",
   "metadata": {},
   "source": [
    "Put all your results in an SQLite3 database (remember, SQLite stores its databases as files in your local machine - make sure to create your database in your project's data/ directory!)"
   ]
  },
  {
   "cell_type": "code",
   "execution_count": 4,
   "metadata": {},
   "outputs": [],
   "source": [
    "import sqlite3\n",
    "from sqlite3 import Error"
   ]
  },
  {
   "cell_type": "code",
   "execution_count": 5,
   "metadata": {},
   "outputs": [],
   "source": [
    "def create_connection(path):\n",
    "    connection = None\n",
    "    try:\n",
    "        connection = sqlite3.connect(path)\n",
    "        print(\"Connection to SQLite DB successful\")\n",
    "    except Error as e:\n",
    "        print(f\"The error '{e}' occurred\")\n",
    "\n",
    "    return connection"
   ]
  },
  {
   "cell_type": "code",
   "execution_count": null,
   "metadata": {},
   "outputs": [],
   "source": [
    "connection = create_connection(\"./data/bikes_poi.sqlite\")\n",
    "\n",
    "# Write the DataFrames to the database\n",
    "df_foursquare.to_sql('foursquare', connection, if_exists='replace', index=False)\n",
    "df_yelp.to_sql('yelp', connection, if_exists='replace', index=False)\n",
    "df2.to_sql('bikes', connection, if_exists='replace', index=False)\n",
    "\n",
    "# Close the database connection\n",
    "connection.close()"
   ]
  },
  {
   "cell_type": "code",
   "execution_count": null,
   "metadata": {},
   "outputs": [],
   "source": []
  },
  {
   "cell_type": "markdown",
   "metadata": {},
   "source": [
    "Look at the data before and after the join to validate your data."
   ]
  },
  {
   "cell_type": "code",
   "execution_count": null,
   "metadata": {},
   "outputs": [],
   "source": [
    "def execute_read_query(connection, query):\n",
    "    cursor = connection.cursor()\n",
    "    result = None\n",
    "    try:\n",
    "        cursor.execute(query)\n",
    "        result = cursor.fetchall()\n",
    "        return result\n",
    "    except Error as e:\n",
    "        print(f\"The error '{e}' occurred\")"
   ]
  },
  {
   "cell_type": "code",
   "execution_count": null,
   "metadata": {},
   "outputs": [],
   "source": [
    "connection = create_connection(\"./data/bikes_poi.sqlite\")\n",
    "\n",
    "select_bikes = \"SELECT * FROM bikes\"\n",
    "bikes = execute_read_query(connection, select_bikes)\n",
    "\n",
    "for station in bikes:\n",
    "    print(station)\n",
    "\n",
    "connection.close()"
   ]
  }
 ],
 "metadata": {
  "kernelspec": {
   "display_name": "Python 3",
   "language": "python",
   "name": "python3"
  },
  "language_info": {
   "codemirror_mode": {
    "name": "ipython",
    "version": 3
   },
   "file_extension": ".py",
   "mimetype": "text/x-python",
   "name": "python",
   "nbconvert_exporter": "python",
   "pygments_lexer": "ipython3",
   "version": "3.11.4"
  }
 },
 "nbformat": 4,
 "nbformat_minor": 4
}
